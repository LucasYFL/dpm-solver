{
 "cells": [
  {
   "cell_type": "code",
   "execution_count": 1,
   "metadata": {},
   "outputs": [],
   "source": [
    "import os\n",
    "import numpy as np"
   ]
  },
  {
   "cell_type": "code",
   "execution_count": 2,
   "metadata": {},
   "outputs": [
    {
     "name": "stdout",
     "output_type": "stream",
     "text": [
      "[5.07052   3.3206758 2.8473017 2.82056   2.8291345 2.9832668 3.212436\n",
      " 3.4195151]\n"
     ]
    }
   ],
   "source": [
    "rootp = './multistage/'\n",
    "allp = os.path.join(rootp,'new_interval','interval_all')\n",
    "all = []\n",
    "for i in range(5,41,5):\n",
    "    all.append(np.load(os.path.join(allp,\"report_{}.npz\".format(i)))['fid'])\n",
    "all = np.array(all)\n",
    "print(all)"
   ]
  }
 ],
 "metadata": {
  "kernelspec": {
   "display_name": "dpm2",
   "language": "python",
   "name": "python3"
  },
  "language_info": {
   "codemirror_mode": {
    "name": "ipython",
    "version": 3
   },
   "file_extension": ".py",
   "mimetype": "text/x-python",
   "name": "python",
   "nbconvert_exporter": "python",
   "pygments_lexer": "ipython3",
   "version": "3.8.0"
  },
  "orig_nbformat": 4
 },
 "nbformat": 4,
 "nbformat_minor": 2
}
