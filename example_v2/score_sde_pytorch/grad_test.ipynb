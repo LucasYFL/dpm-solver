{
 "cells": [
  {
   "cell_type": "code",
   "execution_count": 1,
   "metadata": {},
   "outputs": [],
   "source": [
    "import torch\n",
    "import torch.nn as nn"
   ]
  },
  {
   "cell_type": "code",
   "execution_count": 2,
   "metadata": {},
   "outputs": [],
   "source": [
    "class MLP(nn.Module):\n",
    "    def __init__(self):\n",
    "        super().__init__()\n",
    "        self.hidden = nn.Linear(784, 256)\n",
    "        self.act = nn.ReLU()\n",
    "        self.output = nn.Linear(256, 10)\n",
    "    \n",
    "    def forward(self, x):\n",
    "        a = self.act(self.hidden(x))\n",
    "        return self.output(a)"
   ]
  },
  {
   "cell_type": "code",
   "execution_count": 3,
   "metadata": {},
   "outputs": [],
   "source": [
    "input = torch.randn(20,784,requires_grad=True)\n",
    "loss = nn.MSELoss()\n",
    "target = torch.randn(20,10)\n",
    "mlp = MLP()\n",
    "output = mlp(input)\n",
    "l = loss(output,target)\n",
    "l.backward()"
   ]
  },
  {
   "cell_type": "code",
   "execution_count": 7,
   "metadata": {},
   "outputs": [
    {
     "name": "stdout",
     "output_type": "stream",
     "text": [
      "tensor([3.8880e-03, 2.6412e-03, 1.4315e-05,  ..., 7.9938e-02, 7.4796e-02,\n",
      "        2.5599e-02])\n",
      "torch.Size([203530])\n"
     ]
    }
   ],
   "source": [
    "grads = torch.cat([param.grad.flatten() for param in mlp.parameters()])\n",
    "print(grads)\n",
    "print(grads.shape)"
   ]
  }
 ],
 "metadata": {
  "kernelspec": {
   "display_name": "dpm2",
   "language": "python",
   "name": "python3"
  },
  "language_info": {
   "codemirror_mode": {
    "name": "ipython",
    "version": 3
   },
   "file_extension": ".py",
   "mimetype": "text/x-python",
   "name": "python",
   "nbconvert_exporter": "python",
   "pygments_lexer": "ipython3",
   "version": "3.8.0"
  },
  "orig_nbformat": 4
 },
 "nbformat": 4,
 "nbformat_minor": 2
}
