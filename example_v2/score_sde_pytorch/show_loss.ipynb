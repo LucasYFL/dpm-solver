{
 "cells": [
  {
   "cell_type": "code",
   "execution_count": 1,
   "metadata": {},
   "outputs": [],
   "source": [
    "import numpy as np\n",
    "import os"
   ]
  },
  {
   "cell_type": "code",
   "execution_count": 2,
   "metadata": {},
   "outputs": [],
   "source": [
    "p = './experiments/'\n",
    "ckpt_f = 'ckpt_1_loss.npz'\n",
    "last_data_p = 'dpm_last_data/'\n",
    "last_p = 'dpm_last'\n",
    "first_p = 'dpm_one_first'\n",
    "first_data_p = 'dpm_data'\n",
    "data_loss = 'data_loss'\n",
    "noise_loss = 'noise_loss'\n",
    "data_on_noise = 'data_on_noise' \n",
    "noise_on_data = 'noise_on_data'\n"
   ]
  },
  {
   "cell_type": "code",
   "execution_count": 3,
   "metadata": {},
   "outputs": [],
   "source": [
    "first_data_lossf = os.path.join(p,first_data_p,data_loss,ckpt_f)\n",
    "first_data_noise_lossf = os.path.join(p,first_data_p,data_on_noise,ckpt_f)\n",
    "last_data_lossf = os.path.join(p,last_data_p,data_loss,ckpt_f)\n",
    "last_data_noise_lossf = os.path.join(p,last_data_p,data_on_noise,ckpt_f)\n",
    "first_noise_lossf = os.path.join(p,first_p,noise_loss,ckpt_f)\n",
    "first_noise_data_lossf = os.path.join(p,first_p,noise_on_data,ckpt_f)\n",
    "last_noise_lossf = os.path.join(p,last_p,noise_loss,ckpt_f)\n",
    "last_noise_data_lossf = os.path.join(p,last_p,noise_on_data,ckpt_f)\n",
    "\n"
   ]
  },
  {
   "cell_type": "code",
   "execution_count": 4,
   "metadata": {},
   "outputs": [
    {
     "name": "stdout",
     "output_type": "stream",
     "text": [
      "Data loss\n",
      "0.004051684867590666\n",
      "0.24184252694249153\n",
      "0.004011737881228328\n",
      "0.3360651880502701\n"
     ]
    }
   ],
   "source": [
    "print(\"Data loss\")\n",
    "first_data_loss = np.load(first_data_lossf)['mean_loss']\n",
    "last_data_loss = np.load(last_data_lossf)['mean_loss']\n",
    "first_noise_data_loss = np.load(first_noise_data_lossf)['mean_loss']\n",
    "last_noise_data_loss = np.load(last_noise_data_lossf)['mean_loss']\n",
    "print(first_data_loss)\n",
    "print(last_data_loss)\n",
    "print(first_noise_data_loss)\n",
    "print(last_noise_data_loss)"
   ]
  },
  {
   "cell_type": "code",
   "execution_count": 5,
   "metadata": {},
   "outputs": [
    {
     "name": "stdout",
     "output_type": "stream",
     "text": [
      "noise loss\n",
      "0.12768900766968727\n",
      "9.742374641064089e-05\n",
      "0.12889137119054794\n",
      "6.964310341572855e-05\n"
     ]
    }
   ],
   "source": [
    "print(\"noise loss\")\n",
    "first_noise_loss = np.load(first_noise_lossf)['mean_loss']\n",
    "last_noise_loss = np.load(last_noise_lossf)['mean_loss']\n",
    "first_data_noise_loss = np.load(first_data_noise_lossf)['mean_loss']\n",
    "last_data_noise_loss = np.load(last_data_noise_lossf)['mean_loss']\n",
    "print(first_noise_loss)\n",
    "print(last_noise_loss)\n",
    "print(first_data_noise_loss)\n",
    "print(last_data_noise_loss)"
   ]
  },
  {
   "cell_type": "code",
   "execution_count": 6,
   "metadata": {},
   "outputs": [],
   "source": [
    "ckpt_40 = 'ckpt_40_loss.npz'\n",
    "ckpt_9 = 'ckpt_9_loss.npz'\n",
    "dpm_p = 'dpm'\n",
    "dpm_one = 'dpm_one_step'\n",
    "on_t = 'on_first_t'\n",
    "dpm_lossf = os.path.join(p,dpm_p,on_t,ckpt_40)\n",
    "one_lossf = os.path.join(p,dpm_one,on_t,ckpt_9)\n",
    "dpm_loss=np.load(dpm_lossf)['mean_loss']\n",
    "one_loss=np.load(one_lossf)['mean_loss']\n"
   ]
  },
  {
   "cell_type": "code",
   "execution_count": 7,
   "metadata": {},
   "outputs": [
    {
     "name": "stdout",
     "output_type": "stream",
     "text": [
      "0.023990923538804054\n",
      "0.02495420491322875\n"
     ]
    }
   ],
   "source": [
    "print(dpm_loss)\n",
    "print(one_loss)"
   ]
  }
 ],
 "metadata": {
  "kernelspec": {
   "display_name": "dpm",
   "language": "python",
   "name": "python3"
  },
  "language_info": {
   "codemirror_mode": {
    "name": "ipython",
    "version": 3
   },
   "file_extension": ".py",
   "mimetype": "text/x-python",
   "name": "python",
   "nbconvert_exporter": "python",
   "pygments_lexer": "ipython3",
   "version": "3.9.0"
  },
  "orig_nbformat": 4,
  "vscode": {
   "interpreter": {
    "hash": "153361cc7bdd6af92cae0b0b812442fb874744947f58b785df33f6e9c7d6ff75"
   }
  }
 },
 "nbformat": 4,
 "nbformat_minor": 2
}
