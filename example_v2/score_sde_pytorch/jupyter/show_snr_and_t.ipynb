{
 "cells": [
  {
   "cell_type": "code",
   "execution_count": 1,
   "metadata": {},
   "outputs": [
    {
     "name": "stdout",
     "output_type": "stream",
     "text": [
      "WARNING:tensorflow:From /home/yifulu/.conda/envs/dpm/lib/python3.9/site-packages/tensorflow_gan/python/estimator/tpu_gan_estimator.py:42: The name tf.estimator.tpu.TPUEstimator is deprecated. Please use tf.compat.v1.estimator.tpu.TPUEstimator instead.\n",
      "\n"
     ]
    },
    {
     "name": "stderr",
     "output_type": "stream",
     "text": [
      "/home/yifulu/.conda/envs/dpm/lib/python3.9/site-packages/tqdm/auto.py:22: TqdmWarning: IProgress not found. Please update jupyter and ipywidgets. See https://ipywidgets.readthedocs.io/en/stable/user_install.html\n",
      "  from .autonotebook import tqdm as notebook_tqdm\n"
     ]
    }
   ],
   "source": [
    "import gc\n",
    "import io\n",
    "import os\n",
    "import time\n",
    "\n",
    "import numpy as np\n",
    "import tensorflow as tf\n",
    "import tensorflow_gan as tfgan\n",
    "import logging\n",
    "# Keep the import below for registering all model definitions\n",
    "import sys\n",
    "sys.path.append(\"../\")\n",
    "from models import ddpm\n",
    "import losses\n",
    "import sampling\n",
    "from models import utils as mutils\n",
    "from models.ema import ExponentialMovingAverage\n",
    "import datasets\n",
    "import evaluation\n",
    "import likelihood\n",
    "import sde_lib\n",
    "from absl import flags\n",
    "import torch\n",
    "from torch.utils import tensorboard\n",
    "from torchvision.utils import make_grid, save_image\n",
    "from utils import save_checkpoint, restore_checkpoint\n",
    "from configs.vp import cifar10_ddpm_continuous as configs\n",
    "from sde_lib import VESDE, VPSDE, subVPSDE"
   ]
  },
  {
   "cell_type": "code",
   "execution_count": 2,
   "metadata": {},
   "outputs": [],
   "source": [
    "\n",
    "from dpm_solver import NoiseScheduleVP\n",
    "config=configs.get_config()\n",
    "config.eval.batch_size = 16\n",
    "sde = VPSDE(beta_min=config.model.beta_min, beta_max=config.model.beta_max, N=config.model.num_scales)\n",
    "sampling_eps = 1e-3\n",
    "ns = NoiseScheduleVP('linear', continuous_beta_0=sde.beta_0, continuous_beta_1=sde.beta_1)\n",
    "lst_steps = torch.tensor([1.0,0.950049877166748,0.9000999927520752,0.8501499891281128,\n",
    "0.8001999258995056,0.750249981880188,0.7002999782562256,\n",
    "0.6503499746322632,0.6003999710083008,0.5504499673843384,\n",
    "0.5004999041557312,0.4505499303340912,0.40059995651245117,\n",
    "0.35064995288848877,0.30069997906684875,0.25074997544288635,\n",
    "0.20079998672008514,0.15084998309612274,0.10090000182390213,\n",
    "0.050950001925230026,0.0010000000474974513,])"
   ]
  },
  {
   "cell_type": "code",
   "execution_count": 5,
   "metadata": {},
   "outputs": [
    {
     "name": "stdout",
     "output_type": "stream",
     "text": [
      "tensor([0.2590, 0.6760], dtype=torch.float64)\n"
     ]
    }
   ],
   "source": [
    "snrs = [1,1e-2]\n",
    "lambdas = np.log(snrs)/2\n",
    "print(ns.inverse_lambda(torch.tensor(lambdas)))"
   ]
  }
 ],
 "metadata": {
  "kernelspec": {
   "display_name": "dpm",
   "language": "python",
   "name": "python3"
  },
  "language_info": {
   "codemirror_mode": {
    "name": "ipython",
    "version": 3
   },
   "file_extension": ".py",
   "mimetype": "text/x-python",
   "name": "python",
   "nbconvert_exporter": "python",
   "pygments_lexer": "ipython3",
   "version": "3.9.0"
  },
  "orig_nbformat": 4
 },
 "nbformat": 4,
 "nbformat_minor": 2
}
