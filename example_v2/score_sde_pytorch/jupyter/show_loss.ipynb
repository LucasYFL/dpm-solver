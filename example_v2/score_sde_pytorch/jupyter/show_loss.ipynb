{
 "cells": [
  {
   "cell_type": "code",
   "execution_count": 13,
   "metadata": {},
   "outputs": [],
   "source": [
    "import numpy as np\n",
    "import os"
   ]
  },
  {
   "cell_type": "code",
   "execution_count": 14,
   "metadata": {},
   "outputs": [],
   "source": [
    "p = './experiments/'\n",
    "ckpt_f = 'ckpt_1_loss.npz'\n",
    "last_data_p = 'dpm_last_data/'\n",
    "last_p = 'dpm_last'\n",
    "first_p = 'dpm_one_first'\n",
    "first_data_p = 'dpm_data'\n",
    "data_loss = 'data_loss'\n",
    "noise_loss = 'noise_loss'\n",
    "data_on_noise = 'data_on_noise' \n",
    "noise_on_data = 'noise_on_data'\n"
   ]
  },
  {
   "cell_type": "code",
   "execution_count": 15,
   "metadata": {},
   "outputs": [],
   "source": [
    "first_data_lossf = os.path.join(p,first_data_p,data_loss,ckpt_f)\n",
    "first_data_noise_lossf = os.path.join(p,first_data_p,data_on_noise,ckpt_f)\n",
    "last_data_lossf = os.path.join(p,last_data_p,data_loss,ckpt_f)\n",
    "last_data_noise_lossf = os.path.join(p,last_data_p,data_on_noise,ckpt_f)\n",
    "first_noise_lossf = os.path.join(p,first_p,noise_loss,ckpt_f)\n",
    "first_noise_data_lossf = os.path.join(p,first_p,noise_on_data,ckpt_f)\n",
    "last_noise_lossf = os.path.join(p,last_p,noise_loss,ckpt_f)\n",
    "last_noise_data_lossf = os.path.join(p,last_p,noise_on_data,ckpt_f)\n",
    "\n"
   ]
  },
  {
   "cell_type": "code",
   "execution_count": 16,
   "metadata": {},
   "outputs": [
    {
     "name": "stdout",
     "output_type": "stream",
     "text": [
      "Data loss\n",
      "0.004051684867590666\n",
      "0.24184252694249153\n",
      "0.004011737881228328\n",
      "0.3360651880502701\n"
     ]
    }
   ],
   "source": [
    "print(\"Data loss\")\n",
    "first_data_loss = np.load(first_data_lossf)['mean_loss']\n",
    "last_data_loss = np.load(last_data_lossf)['mean_loss']\n",
    "first_noise_data_loss = np.load(first_noise_data_lossf)['mean_loss']\n",
    "last_noise_data_loss = np.load(last_noise_data_lossf)['mean_loss']\n",
    "print(first_data_loss)\n",
    "print(last_data_loss)\n",
    "print(first_noise_data_loss)\n",
    "print(last_noise_data_loss)"
   ]
  },
  {
   "cell_type": "code",
   "execution_count": 17,
   "metadata": {},
   "outputs": [
    {
     "name": "stdout",
     "output_type": "stream",
     "text": [
      "noise loss\n",
      "0.12768900766968727\n",
      "9.742374641064089e-05\n",
      "0.12889137119054794\n",
      "6.964310341572855e-05\n"
     ]
    }
   ],
   "source": [
    "print(\"noise loss\")\n",
    "first_noise_loss = np.load(first_noise_lossf)['mean_loss']\n",
    "last_noise_loss = np.load(last_noise_lossf)['mean_loss']\n",
    "first_data_noise_loss = np.load(first_data_noise_lossf)['mean_loss']\n",
    "last_data_noise_loss = np.load(last_data_noise_lossf)['mean_loss']\n",
    "print(first_noise_loss)\n",
    "print(last_noise_loss)\n",
    "print(first_data_noise_loss)\n",
    "print(last_data_noise_loss)"
   ]
  }
 ],
 "metadata": {
  "kernelspec": {
   "display_name": "dpm",
   "language": "python",
   "name": "python3"
  },
  "language_info": {
   "codemirror_mode": {
    "name": "ipython",
    "version": 3
   },
   "file_extension": ".py",
   "mimetype": "text/x-python",
   "name": "python",
   "nbconvert_exporter": "python",
   "pygments_lexer": "ipython3",
   "version": "3.9.0"
  },
  "orig_nbformat": 4,
  "vscode": {
   "interpreter": {
    "hash": "153361cc7bdd6af92cae0b0b812442fb874744947f58b785df33f6e9c7d6ff75"
   }
  }
 },
 "nbformat": 4,
 "nbformat_minor": 2
}
