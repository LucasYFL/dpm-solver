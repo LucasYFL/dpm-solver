{
 "cells": [
  {
   "cell_type": "code",
   "execution_count": 2,
   "metadata": {},
   "outputs": [
    {
     "name": "stdout",
     "output_type": "stream",
     "text": [
      "The autoreload extension is already loaded. To reload it, use:\n",
      "  %reload_ext autoreload\n",
      "WARNING:tensorflow:From /home/yifulu/.conda/envs/dpm/lib/python3.9/site-packages/tensorflow_gan/python/estimator/tpu_gan_estimator.py:42: The name tf.estimator.tpu.TPUEstimator is deprecated. Please use tf.compat.v1.estimator.tpu.TPUEstimator instead.\n",
      "\n"
     ]
    }
   ],
   "source": [
    "#@title Autoload all modules\n",
    "%load_ext autoreload\n",
    "%autoreload 2\n",
    "\n",
    "from dataclasses import dataclass, field\n",
    "import matplotlib.pyplot as plt\n",
    "import io\n",
    "import csv\n",
    "import sys\n",
    "sys.path.append(\"../\")\n",
    "import numpy as np\n",
    "import pandas as pd\n",
    "import seaborn as sns\n",
    "import matplotlib\n",
    "import importlib\n",
    "import os\n",
    "import functools\n",
    "import itertools\n",
    "import torch\n",
    "from losses import get_optimizer\n",
    "from models.ema import ExponentialMovingAverage\n",
    "\n",
    "import torch.nn as nn\n",
    "import numpy as np\n",
    "import tensorflow as tf\n",
    "import tensorflow_datasets as tfds\n",
    "import tensorflow_gan as tfgan\n",
    "import tqdm\n",
    "import io\n",
    "import likelihood\n",
    "import controllable_generation\n",
    "from utils import restore_checkpoint\n",
    "sns.set(font_scale=2)\n",
    "sns.set(style=\"whitegrid\")\n",
    "\n",
    "import models\n",
    "from models import utils as mutils\n",
    "from models import ddpm as ddpm_model\n",
    "import sampling\n",
    "from likelihood import get_likelihood_fn\n",
    "from sde_lib import VESDE, VPSDE, subVPSDE\n",
    "from sampling import (ReverseDiffusionPredictor, \n",
    "                      LangevinCorrector, \n",
    "                      EulerMaruyamaPredictor, \n",
    "                      AncestralSamplingPredictor, \n",
    "                      NoneCorrector, \n",
    "                      NonePredictor,\n",
    "                      AnnealedLangevinDynamics)\n",
    "import datasets\n",
    "from configs.vp import cifar10_ddpm_continuous as configs"
   ]
  },
  {
   "cell_type": "code",
   "execution_count": 3,
   "metadata": {},
   "outputs": [],
   "source": [
    "config=configs.get_config()\n",
    "sde = VPSDE(beta_min=config.model.beta_min, beta_max=config.model.beta_max, N=config.model.num_scales)\n",
    "sampling_eps = 1e-3"
   ]
  },
  {
   "cell_type": "code",
   "execution_count": 28,
   "metadata": {},
   "outputs": [],
   "source": [
    "img_size = config.data.image_size\n",
    "channels = config.data.num_channels\n",
    "\"\"\"lst_steps = torch.tensor([1.0,0.950049877166748,0.9000999927520752,0.8501499891281128,\n",
    "0.8001999258995056,0.750249981880188,0.7002999782562256,\n",
    "0.6503499746322632,0.6003999710083008,0.5504499673843384,\n",
    "0.5004999041557312,0.4505499303340912,0.40059995651245117,\n",
    "0.35064995288848877,0.30069997906684875,0.25074997544288635,\n",
    "0.20079998672008514,0.15084998309612274,0.10090000182390213,\n",
    "0.050950001925230026,0.0010000000474974513,0])\n",
    "lst_steps = torch.flip(lst_steps,(0,))\"\"\"\n",
    "lst_steps = torch.tensor([0,0.259,0.676,1])\n",
    "noise_size = lst_steps.shape[0]\n",
    "batch_size=1\n",
    "shape = (batch_size, channels, img_size, img_size)\n",
    "config.training.batch_size = batch_size\n",
    "config.eval.batch_size = batch_size"
   ]
  },
  {
   "cell_type": "code",
   "execution_count": 29,
   "metadata": {},
   "outputs": [],
   "source": [
    "#@title Visualization code\n",
    "\n",
    "def image_grid(x):\n",
    "  size = config.data.image_size\n",
    "  channels = config.data.num_channels\n",
    "  img = x.reshape(-1,size, size, channels)\n",
    "  \n",
    "  img = img.reshape((batch_size, noise_size, size, size, channels)).transpose((0, 2, 1, 3, 4)).reshape((batch_size*size, noise_size * size, channels))\n",
    "  return img\n",
    "\"\"\"\n",
    "def image_grid(x):\n",
    "  size = config.data.image_size\n",
    "  channels = config.data.num_channels\n",
    "  img = x.reshape(-1, size, size, channels)\n",
    "  w = int(np.sqrt(img.shape[0]))\n",
    "  img = img.reshape((w, w, size, size, channels)).transpose((0, 2, 1, 3, 4)).reshape((w * size, w * size, channels))\n",
    "  return img\n",
    "\"\"\"\n",
    "def show_samples(x):\n",
    "  x = x.permute(0, 2, 3, 1).detach().cpu().numpy()\n",
    "  #x = x.detach().cpu().numpy()\n",
    "  img = image_grid(x)\n",
    "  plt.figure(figsize=(8,8))\n",
    "  plt.axis('off')\n",
    "  plt.imshow(img)\n",
    "  plt.show()\n"
   ]
  },
  {
   "cell_type": "code",
   "execution_count": 30,
   "metadata": {},
   "outputs": [
    {
     "name": "stderr",
     "output_type": "stream",
     "text": [
      "WARNING:absl:options.experimental_threading is deprecated. Use options.threading instead.\n",
      "WARNING:absl:options.experimental_threading is deprecated. Use options.threading instead.\n",
      "WARNING:absl:options.experimental_threading is deprecated. Use options.threading instead.\n",
      "WARNING:absl:options.experimental_threading is deprecated. Use options.threading instead.\n"
     ]
    }
   ],
   "source": [
    "_, eval_ds, _ = datasets.get_dataset(config,\n",
    "                                              uniform_dequantization=config.data.uniform_dequantization)\n",
    "eval_iter = iter(eval_ds)  # pytype: disable=wrong-arg-types\n",
    "scaler = datasets.get_data_scaler(config)\n",
    "inverse_scaler = datasets.get_data_inverse_scaler(config)\n",
    "batch = torch.from_numpy(next(eval_iter)['image']._numpy()).to(config.device).float()\n",
    "batch = scaler(batch)"
   ]
  },
  {
   "cell_type": "code",
   "execution_count": 31,
   "metadata": {},
   "outputs": [
    {
     "name": "stdout",
     "output_type": "stream",
     "text": [
      "torch.Size([4, 3, 32, 32])\n"
     ]
    }
   ],
   "source": [
    "batch = batch.permute(0, 3, 1, 2)\n",
    "\n",
    "batch = batch.repeat(noise_size,1,1,1)\n",
    "print(batch.shape)"
   ]
  },
  {
   "cell_type": "code",
   "execution_count": 32,
   "metadata": {},
   "outputs": [],
   "source": [
    "t = lst_steps.to(batch.device)\n",
    "z = torch.randn_like(batch)\n",
    "mean, std = sde.marginal_prob(batch, t.repeat(batch_size))\n",
    "perturbed_data = mean + std[:, None, None, None] * z\n"
   ]
  },
  {
   "cell_type": "code",
   "execution_count": 33,
   "metadata": {},
   "outputs": [
    {
     "name": "stderr",
     "output_type": "stream",
     "text": [
      "WARNING:matplotlib.image:Clipping input data to the valid range for imshow with RGB data ([0..1] for floats or [0..255] for integers).\n"
     ]
    },
    {
     "data": {
      "image/png": "[encoded data removed]",
      "text/plain": [
       "<Figure size 800x800 with 1 Axes>"
      ]
     },
     "metadata": {},
     "output_type": "display_data"
    }
   ],
   "source": [
    "show_samples(perturbed_data)"
   ]
  }
 ],
 "metadata": {
  "kernelspec": {
   "display_name": "dpm",
   "language": "python",
   "name": "python3"
  },
  "language_info": {
   "codemirror_mode": {
    "name": "ipython",
    "version": 3
   },
   "file_extension": ".py",
   "mimetype": "text/x-python",
   "name": "python",
   "nbconvert_exporter": "python",
   "pygments_lexer": "ipython3",
   "version": "3.9.0"
  },
  "orig_nbformat": 4,
  "vscode": {
   "interpreter": {
    "hash": "153361cc7bdd6af92cae0b0b812442fb874744947f58b785df33f6e9c7d6ff75"
   }
  }
 },
 "nbformat": 4,
 "nbformat_minor": 2
}
