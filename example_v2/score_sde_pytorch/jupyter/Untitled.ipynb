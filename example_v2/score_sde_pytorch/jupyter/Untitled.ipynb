{
 "cells": [
  {
   "cell_type": "code",
   "execution_count": null,
   "id": "3b9da8d5",
   "metadata": {},
   "outputs": [
    {
     "ename": "",
     "evalue": "",
     "output_type": "error",
     "traceback": [
      "\u001b[1;31mRunning cells with 'score_sde_pytorch' requires ipykernel package.\n",
      "\u001b[1;31mRun the following command to install 'ipykernel' into the Python environment. \n",
      "\u001b[1;31mCommand: 'conda install -n score_sde_pytorch ipykernel --update-deps --force-reinstall'"
     ]
    }
   ],
   "source": [
    "import numpy as np"
   ]
  },
  {
   "cell_type": "code",
   "execution_count": 6,
   "id": "875432b7",
   "metadata": {},
   "outputs": [],
   "source": [
    "first_x0_oneps = np.load(\"/scratch/qingqu_root/qingqu1/shared_data/dpm_experiments/dpm_data/data_on_noise/ckpt_1_loss.npz\")\n",
    "first_x0_onx = np.load(\"/scratch/qingqu_root/qingqu1/shared_data/dpm_experiments/dpm_data/data_loss/ckpt_1_loss.npz\")"
   ]
  },
  {
   "cell_type": "code",
   "execution_count": 3,
   "id": "fe6ef2c2",
   "metadata": {},
   "outputs": [
    {
     "name": "stdout",
     "output_type": "stream",
     "text": [
      "all_losses\n",
      "mean_loss\n"
     ]
    }
   ],
   "source": [
    "for key in first_x0:\n",
    "    print(key)"
   ]
  },
  {
   "cell_type": "code",
   "execution_count": 9,
   "id": "221a6359",
   "metadata": {},
   "outputs": [
    {
     "ename": "SyntaxError",
     "evalue": "f-string: unmatched '[' (1973311253.py, line 1)",
     "output_type": "error",
     "traceback": [
      "\u001b[0;36m  File \u001b[0;32m\"/tmp/ipykernel_1431587/1973311253.py\"\u001b[0;36m, line \u001b[0;32m1\u001b[0m\n\u001b[0;31m    print(f\"t = 0.05, train x0, eval on eps {first_x0_oneps[\"mean_loss\"].item()}\")\u001b[0m\n\u001b[0m                                                             ^\u001b[0m\n\u001b[0;31mSyntaxError\u001b[0m\u001b[0;31m:\u001b[0m f-string: unmatched '['\n"
     ]
    }
   ],
   "source": [
    "first_x0_oneps_loss = first_x0_oneps[\"mean_loss\"].item()\n",
    "print(f\"t = 0.05, train x0, eval on eps {}\")"
   ]
  },
  {
   "cell_type": "code",
   "execution_count": 8,
   "id": "a5414b1b",
   "metadata": {},
   "outputs": [
    {
     "data": {
      "text/plain": [
       "array(0.12889137)"
      ]
     },
     "execution_count": 8,
     "metadata": {},
     "output_type": "execute_result"
    }
   ],
   "source": [
    "first_x0_oneps[\"mean_loss\"]"
   ]
  },
  {
   "cell_type": "code",
   "execution_count": null,
   "id": "164e739f",
   "metadata": {},
   "outputs": [],
   "source": []
  }
 ],
 "metadata": {
  "kernelspec": {
   "display_name": "score_sde_pytorch",
   "language": "python",
   "name": "python3"
  },
  "language_info": {
   "codemirror_mode": {
    "name": "ipython",
    "version": 3
   },
   "file_extension": ".py",
   "mimetype": "text/x-python",
   "name": "python",
   "nbconvert_exporter": "python",
   "pygments_lexer": "ipython3",
   "version": "3.8.13 (default, Oct 21 2022, 23:50:54) \n[GCC 11.2.0]"
  },
  "vscode": {
   "interpreter": {
    "hash": "0e52fa4a43bfd3ffee50a90380ceed5ae0d154763ad915abd014330f5b290fed"
   }
  }
 },
 "nbformat": 4,
 "nbformat_minor": 5
}
