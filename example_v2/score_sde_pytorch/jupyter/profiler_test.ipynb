{
 "cells": [
  {
   "cell_type": "code",
   "execution_count": 1,
   "metadata": {},
   "outputs": [
    {
     "name": "stdout",
     "output_type": "stream",
     "text": [
      "WARNING:tensorflow:From /home/yifulu/.conda/envs/dpm/lib/python3.9/site-packages/tensorflow_gan/python/estimator/tpu_gan_estimator.py:42: The name tf.estimator.tpu.TPUEstimator is deprecated. Please use tf.compat.v1.estimator.tpu.TPUEstimator instead.\n",
      "\n"
     ]
    },
    {
     "name": "stderr",
     "output_type": "stream",
     "text": [
      "/home/yifulu/.conda/envs/dpm/lib/python3.9/site-packages/tqdm/auto.py:22: TqdmWarning: IProgress not found. Please update jupyter and ipywidgets. See https://ipywidgets.readthedocs.io/en/stable/user_install.html\n",
      "  from .autonotebook import tqdm as notebook_tqdm\n"
     ]
    }
   ],
   "source": [
    "import gc\n",
    "import io\n",
    "import os\n",
    "import time\n",
    "import sys\n",
    "sys.path.append(\"../\")\n",
    "import numpy as np\n",
    "import tensorflow as tf\n",
    "import tensorflow_gan as tfgan\n",
    "import logging\n",
    "# Keep the import below for registering all model definitions\n",
    "from models import ddpm#, ncsnpp\n",
    "import losses\n",
    "import sampling\n",
    "from models import utils as mutils\n",
    "from models.ema import ExponentialMovingAverage\n",
    "import datasets\n",
    "import evaluation\n",
    "import likelihood\n",
    "import sde_lib\n",
    "from absl import flags\n",
    "import torch\n",
    "from torch.utils import tensorboard\n",
    "from torchvision.utils import make_grid, save_image\n",
    "from utils import save_checkpoint, restore_checkpoint\n",
    "from configs.vp import cifar10_ddpm_less as configs\n",
    "from sde_lib import VESDE, VPSDE, subVPSDE\n",
    "from torch.profiler import profile, record_function, ProfilerActivity"
   ]
  },
  {
   "cell_type": "code",
   "execution_count": 2,
   "metadata": {},
   "outputs": [
    {
     "name": "stderr",
     "output_type": "stream",
     "text": [
      "No GPU/TPU found, falling back to CPU. (Set TF_CPP_MIN_LOG_LEVEL=0 and rerun for more info.)\n",
      "WARNING:absl:options.experimental_threading is deprecated. Use options.threading instead.\n",
      "WARNING:absl:options.experimental_threading is deprecated. Use options.threading instead.\n",
      "2023-03-27 12:18:23.842330: W tensorflow/stream_executor/platform/default/dso_loader.cc:64] Could not load dynamic library 'libcuda.so.1'; dlerror: libcuda.so.1: cannot open shared object file: No such file or directory; LD_LIBRARY_PATH: /sw/pkgs/arc/cudnn/11.3-v8.2.1/lib64:/sw/pkgs/arc/cuda/11.3.0/lib64:/opt/slurm/lib64::\n",
      "2023-03-27 12:18:23.842363: W tensorflow/stream_executor/cuda/cuda_driver.cc:269] failed call to cuInit: UNKNOWN ERROR (303)\n",
      "WARNING:absl:options.experimental_threading is deprecated. Use options.threading instead.\n",
      "WARNING:absl:options.experimental_threading is deprecated. Use options.threading instead.\n"
     ]
    }
   ],
   "source": [
    "config=configs.get_config()\n",
    "config.eval.batch_size = 16\n",
    "sde = VPSDE(beta_min=config.model.beta_min, beta_max=config.model.beta_max, N=config.model.num_scales)\n",
    "sampling_eps = 1e-3\n",
    "# Build data pipeline\n",
    "train_ds, eval_ds, _ = datasets.get_dataset(config,\n",
    "                                            uniform_dequantization=config.data.uniform_dequantization,\n",
    "                                            evaluation=True)\n",
    "\n",
    "# Create data normalizer and its inverse\n",
    "scaler = datasets.get_data_scaler(config)\n",
    "inverse_scaler = datasets.get_data_inverse_scaler(config)"
   ]
  },
  {
   "cell_type": "code",
   "execution_count": 3,
   "metadata": {},
   "outputs": [],
   "source": [
    "score_model = mutils.create_model(config)\n",
    "optimizer = losses.get_optimizer(config, score_model.parameters())\n",
    "ema = ExponentialMovingAverage(score_model.parameters(), decay=config.model.ema_rate)\n",
    "state = dict(optimizer=optimizer, model=score_model, ema=ema, step=0)\n",
    "\n",
    "\n",
    "sde = VPSDE(beta_min=config.model.beta_min, beta_max=config.model.beta_max, N=config.model.num_scales)\n",
    "sampling_eps = 1e-3\n"
   ]
  },
  {
   "cell_type": "code",
   "execution_count": 4,
   "metadata": {},
   "outputs": [],
   "source": [
    "sampling_shape = (config.eval.batch_size,\n",
    "                      config.data.num_channels,\n",
    "                      config.data.image_size, config.data.image_size)\n",
    "eval_iter = iter(eval_ds)"
   ]
  },
  {
   "cell_type": "code",
   "execution_count": 5,
   "metadata": {},
   "outputs": [],
   "source": [
    "batch = torch.from_numpy(next(eval_iter)['image']._numpy()).to(config.device).float()\n",
    "batch = batch.permute(0, 3, 1, 2)\n",
    "batch = scaler(batch)\n",
    "lst_steps=torch.tensor([0.050950001925230026])\n",
    "t = lst_steps.to(batch.device).repeat(batch.shape[0])\n",
    "z = torch.randn_like(batch)\n",
    "mean, std = sde.marginal_prob(batch, t)\n",
    "perturbed_data = mean + std[:, None, None, None] * z"
   ]
  },
  {
   "cell_type": "code",
   "execution_count": 6,
   "metadata": {},
   "outputs": [
    {
     "name": "stderr",
     "output_type": "stream",
     "text": [
      "STAGE:2023-03-27 12:18:25 2564023:2564023 ActivityProfilerController.cpp:294] Completed Stage: Warm Up\n",
      "STAGE:2023-03-27 12:18:25 2564023:2564023 ActivityProfilerController.cpp:300] Completed Stage: Collection\n"
     ]
    }
   ],
   "source": [
    "with profile(activities=[ProfilerActivity.CPU], record_shapes=True,with_flops=True) as prof:\n",
    "    with record_function(\"model_inference\"):\n",
    "        score_model(perturbed_data,t)"
   ]
  },
  {
   "cell_type": "code",
   "execution_count": 7,
   "metadata": {},
   "outputs": [
    {
     "name": "stdout",
     "output_type": "stream",
     "text": [
      "----------------------------  ------------  ------------  ------------  ------------  ------------  ------------  ------------  \n",
      "                        Name    Self CPU %      Self CPU   CPU total %     CPU total  CPU time avg    # of Calls  Total MFLOPs  \n",
      "----------------------------  ------------  ------------  ------------  ------------  ------------  ------------  ------------  \n",
      "             model_inference         2.47%       6.686ms        99.98%     270.216ms     270.216ms             1            --  \n",
      "        DataParallel.forward         5.18%      13.987ms        97.51%     263.525ms     263.525ms             1            --  \n",
      "                aten::conv2d         0.74%       2.011ms        33.93%      91.702ms       1.764ms            52     98354.332  \n",
      "           aten::convolution         0.33%     888.000us        33.81%      91.368ms       1.757ms            52            --  \n",
      "          aten::_convolution         0.25%     676.000us        33.48%      90.480ms       1.740ms            52            --  \n",
      "    aten::mkldnn_convolution        31.39%      84.840ms        31.54%      85.237ms       1.639ms            52            --  \n",
      "                aten::einsum         0.74%       1.989ms        15.72%      42.489ms       1.148ms            37            --  \n",
      "                   aten::bmm        13.94%      37.670ms        13.94%      37.670ms       1.018ms            37     10610.541  \n",
      "            aten::group_norm         0.10%     275.000us        11.93%      32.238ms     657.918us            49            --  \n",
      "     aten::native_group_norm        11.41%      30.829ms        11.83%      31.963ms     652.306us            49            --  \n",
      "----------------------------  ------------  ------------  ------------  ------------  ------------  ------------  ------------  \n",
      "Self CPU time total: 270.258ms\n",
      "\n"
     ]
    }
   ],
   "source": [
    "print(prof.key_averages().table(sort_by=\"cpu_time_total\", row_limit=10))"
   ]
  }
 ],
 "metadata": {
  "kernelspec": {
   "display_name": "dpm",
   "language": "python",
   "name": "python3"
  },
  "language_info": {
   "codemirror_mode": {
    "name": "ipython",
    "version": 3
   },
   "file_extension": ".py",
   "mimetype": "text/x-python",
   "name": "python",
   "nbconvert_exporter": "python",
   "pygments_lexer": "ipython3",
   "version": "3.9.0"
  },
  "orig_nbformat": 4,
  "vscode": {
   "interpreter": {
    "hash": "153361cc7bdd6af92cae0b0b812442fb874744947f58b785df33f6e9c7d6ff75"
   }
  }
 },
 "nbformat": 4,
 "nbformat_minor": 2
}
