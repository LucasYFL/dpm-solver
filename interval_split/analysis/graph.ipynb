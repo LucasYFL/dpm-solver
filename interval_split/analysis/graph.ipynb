{
 "cells": [
  {
   "cell_type": "code",
   "execution_count": null,
   "metadata": {},
   "outputs": [],
   "source": [
    "import torch\n",
    "import os"
   ]
  },
  {
   "cell_type": "code",
   "execution_count": null,
   "metadata": {},
   "outputs": [],
   "source": [
    "def calculated_distance_infiles(t1, t2, distancefunc, root):\n",
    "    pkgs = os.listdir(root)\n",
    "    for pkg in pkgs:\n",
    "        data_path = os.path.join(root, pkg, f\"0_{t1:.4f}_{t2:.4f}.pth\")\n",
    "        datas = torch.load(data_path)\n",
    "        pass\n",
    "        "
   ]
  },
  {
   "cell_type": "code",
   "execution_count": null,
   "metadata": {},
   "outputs": [],
   "source": [
    "def similarityfunc(t1, t2):\n",
    "    pass"
   ]
  },
  {
   "cell_type": "code",
   "execution_count": null,
   "metadata": {},
   "outputs": [],
   "source": [
    "  root = \"/scratch/qingqu_root/qingqu1/shared_data/dpm_experiments/interval_split_graph_exp/\"\n",
    "  for t1 in torch.range(eps, 1, 0.05):\n",
    "    for t2 in torch.range(eps, 1, 0.05):\n",
    "        calculated_distance_files(t1, t2, similarityfunc, root)"
   ]
  }
 ],
 "metadata": {
  "kernelspec": {
   "display_name": "score_sde_pytorch",
   "language": "python",
   "name": "python3"
  },
  "language_info": {
   "name": "python",
   "version": "3.8.16 (default, Jan 17 2023, 23:13:24) \n[GCC 11.2.0]"
  },
  "orig_nbformat": 4,
  "vscode": {
   "interpreter": {
    "hash": "0e52fa4a43bfd3ffee50a90380ceed5ae0d154763ad915abd014330f5b290fed"
   }
  }
 },
 "nbformat": 4,
 "nbformat_minor": 2
}
